{
 "cells": [
  {
   "cell_type": "code",
   "execution_count": 53,
   "id": "d44575b5",
   "metadata": {},
   "outputs": [],
   "source": [
    "import btrack\n",
    "import napari\n",
    "from skimage.io import imread\n",
    "import csv\n",
    "import numpy as np"
   ]
  },
  {
   "cell_type": "markdown",
   "id": "3db37035",
   "metadata": {},
   "source": [
    "load your segmentation data"
   ]
  },
  {
   "cell_type": "code",
   "execution_count": 66,
   "id": "8ce5e987",
   "metadata": {},
   "outputs": [],
   "source": [
    "segmentation = imread('/napari/358_61pos.tif')\n",
    "segmentation = segmentation[0:80]"
   ]
  },
  {
   "cell_type": "markdown",
   "id": "f3dd5366",
   "metadata": {},
   "source": [
    "create btrack objects (with properties) from the segmentation data. (you can also calculate properties, based on scikit-image regionprops)"
   ]
  },
  {
   "cell_type": "code",
   "execution_count": 67,
   "id": "cad0309e",
   "metadata": {},
   "outputs": [
    {
     "name": "stderr",
     "output_type": "stream",
     "text": [
      "[INFO][2024/04/11 04:44:30 PM] Localizing objects from segmentation...\n",
      "progress: 100%|█████████████████████████████████| 80/80 [00:10<00:00,  7.91it/s]\n",
      "[INFO][2024/04/11 04:44:40 PM] Objects are of type: <class 'dict'>\n",
      "[INFO][2024/04/11 04:44:40 PM] ...Found 18322 objects in 80 frames.\n"
     ]
    }
   ],
   "source": [
    "objects = btrack.utils.segmentation_to_objects(segmentation, properties=('area', ))"
   ]
  },
  {
   "cell_type": "markdown",
   "id": "8d0034e9",
   "metadata": {},
   "source": [
    "initialise a tracker session using a context manager"
   ]
  },
  {
   "cell_type": "code",
   "execution_count": 68,
   "id": "e75ecca0",
   "metadata": {},
   "outputs": [
    {
     "name": "stderr",
     "output_type": "stream",
     "text": [
      "[INFO][2024/04/11 04:44:41 PM] Loaded btrack: /opt/anaconda3/envs/python/lib/python3.12/site-packages/btrack/libs/libtracker.dylib\n",
      "[INFO][2024/04/11 04:44:41 PM] Starting BayesianTracker session\n",
      "[INFO][2024/04/11 04:44:41 PM] Loading configuration file: /Users/farhad/Desktop/R/napari/config.json\n",
      "[INFO][2024/04/11 04:44:41 PM] Objects are of type: <class 'list'>\n",
      "[WARNING][2024/04/11 04:44:42 PM] `track_interactive` will be deprecated. Use `track` instead.\n",
      "[INFO][2024/04/11 04:44:42 PM] Starting tracking... \n",
      "[INFO][2024/04/11 04:44:42 PM] Update using: ['MOTION']\n",
      "[INFO][2024/04/11 04:44:42 PM] Tracking objects in frames 0 to 80 (of 80)...\n",
      "[INFO][2024/04/11 04:44:43 PM]  - Timing (Bayesian updates: 17.96ms, Linking: 0.51ms)\n",
      "[INFO][2024/04/11 04:44:43 PM]  - Probabilities (Link: 0.98954, Lost: 0.96091)\n",
      "[INFO][2024/04/11 04:44:43 PM] SUCCESS.\n",
      "[INFO][2024/04/11 04:44:43 PM]  - Found 416 tracks in 80 frames (in 0.0s)\n",
      "[INFO][2024/04/11 04:44:43 PM]  - Inserted 0 dummy objects to fill tracking gaps\n",
      "[INFO][2024/04/11 04:44:43 PM] Loading hypothesis model: config\n",
      "[INFO][2024/04/11 04:44:43 PM] Calculating hypotheses (relax: True)...\n",
      "[INFO][2024/04/11 04:44:43 PM] Setting up constraints matrix for global optimisation...\n",
      "[INFO][2024/04/11 04:44:43 PM] Optimizing...\n",
      "[INFO][2024/04/11 04:44:43 PM] Optimization complete. (Solution: optimal)\n",
      "[INFO][2024/04/11 04:44:43 PM]  - Fates.FALSE_POSITIVE: 24 (of 416)\n",
      "[INFO][2024/04/11 04:44:43 PM]  - Fates.LINK: 54 (of 57)\n",
      "[INFO][2024/04/11 04:44:43 PM]  - Fates.DIVIDE: 1 (of 1)\n",
      "[INFO][2024/04/11 04:44:43 PM]  - Fates.INITIALIZE_BORDER: 17 (of 19)\n",
      "[INFO][2024/04/11 04:44:43 PM]  - Fates.INITIALIZE_FRONT: 245 (of 250)\n",
      "[INFO][2024/04/11 04:44:43 PM]  - Fates.INITIALIZE_LAZY: 74 (of 147)\n",
      "[INFO][2024/04/11 04:44:43 PM]  - Fates.TERMINATE_BORDER: 19 (of 21)\n",
      "[INFO][2024/04/11 04:44:43 PM]  - Fates.TERMINATE_BACK: 230 (of 231)\n",
      "[INFO][2024/04/11 04:44:43 PM]  - Fates.TERMINATE_LAZY: 88 (of 164)\n",
      "[INFO][2024/04/11 04:44:43 PM]  - TOTAL: 1306 hypotheses\n",
      "[INFO][2024/04/11 04:44:43 PM] Completed optimization with 362 tracks\n",
      "[INFO][2024/04/11 04:44:43 PM] Opening HDF file: /Users/farhad/Desktop/R/napari/temp/tracks.h5...\n",
      "[INFO][2024/04/11 04:44:43 PM] Writing tracks/obj_type_1\n",
      "[WARNING][2024/04/11 04:44:43 PM] Removing tracks/obj_type_1.\n",
      "[INFO][2024/04/11 04:44:43 PM] Writing LBEP/obj_type_1\n",
      "[INFO][2024/04/11 04:44:43 PM] Writing fates/obj_type_1\n",
      "[INFO][2024/04/11 04:44:43 PM] Closing HDF file: /Users/farhad/Desktop/R/napari/temp/tracks.h5\n",
      "[INFO][2024/04/11 04:44:43 PM] Ending BayesianTracker session\n"
     ]
    },
    {
     "name": "stdout",
     "output_type": "stream",
     "text": [
      "GLPK Integer Optimizer 5.0\n",
      "1664 rows, 1306 columns, 1781 non-zeros\n",
      "1306 integer variables, all of which are binary\n",
      "Preprocessing...\n",
      "832 rows, 1306 columns, 1781 non-zeros\n",
      "1306 integer variables, all of which are binary\n",
      "Scaling...\n",
      " A: min|aij| =  1.000e+00  max|aij| =  1.000e+00  ratio =  1.000e+00\n",
      "Problem data seem to be well scaled\n",
      "Constructing initial basis...\n",
      "Size of triangular part is 832\n",
      "Solving LP relaxation...\n",
      "GLPK Simplex Optimizer 5.0\n",
      "832 rows, 1306 columns, 1781 non-zeros\n",
      "*     0: obj =   4.912923154e+02 inf =   0.000e+00 (100)\n",
      "*    99: obj =   3.544186802e+02 inf =   0.000e+00 (0)\n",
      "OPTIMAL LP SOLUTION FOUND\n",
      "Integer optimization begins...\n",
      "Long-step dual simplex will be used\n",
      "+    99: mip =     not found yet >=              -inf        (1; 0)\n",
      "+    99: >>>>>   3.544186802e+02 >=   3.544186802e+02   0.0% (1; 0)\n",
      "+    99: mip =   3.544186802e+02 >=     tree is empty   0.0% (0; 1)\n",
      "INTEGER OPTIMAL SOLUTION FOUND\n"
     ]
    }
   ],
   "source": [
    "with btrack.BayesianTracker() as tracker:\n",
    "    tracker.configure('/R/napari/config.json')\n",
    "    tracker.append(objects)\n",
    "    tracker.track_interactive(step_size=100)\n",
    "    tracker.optimize()\n",
    "    tracker.export('/R/napari/temp/tracks.h5', obj_type='obj_type_1')\n",
    "    tracks = tracker.tracks\n",
    "    #data, properties, graph = tracker.to_napari()"
   ]
  },
  {
   "cell_type": "code",
   "execution_count": 62,
   "id": "270e69e3-d023-4435-815a-392fdad8633d",
   "metadata": {},
   "outputs": [],
   "source": [
    "#viewer = napari.Viewer()\n",
    "#viewer.add_tracks(data, properties=properties, graph=graph)\n",
    "#napari.run()"
   ]
  },
  {
   "cell_type": "code",
   "execution_count": 69,
   "id": "9dbe6eb6",
   "metadata": {},
   "outputs": [],
   "source": [
    "with open('/napari/115-tracking/tracks_358-61pos.csv', 'w', newline='') as file:\n",
    "\twriter = csv.writer(file)\n",
    "\tfor x in tracks:\n",
    "\t\twriter.writerow([x, x.ID, x.t, x.x, x.y, x.root, x.parent, x.children, x.generation, x.fate])"
   ]
  },
  {
   "cell_type": "code",
   "execution_count": null,
   "id": "b9003ce5-0782-488e-8918-8aadeebb8c58",
   "metadata": {},
   "outputs": [],
   "source": []
  }
 ],
 "metadata": {
  "kernelspec": {
   "display_name": "Python 3 (ipykernel)",
   "language": "python",
   "name": "python3"
  },
  "language_info": {
   "codemirror_mode": {
    "name": "ipython",
    "version": 3
   },
   "file_extension": ".py",
   "mimetype": "text/x-python",
   "name": "python",
   "nbconvert_exporter": "python",
   "pygments_lexer": "ipython3",
   "version": "3.12.2"
  }
 },
 "nbformat": 4,
 "nbformat_minor": 5
}
